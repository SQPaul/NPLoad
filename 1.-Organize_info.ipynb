{
 "cells": [
  {
   "cell_type": "markdown",
   "id": "b98120cf-67cd-4d7a-92a9-cec22389f315",
   "metadata": {},
   "source": [
    "# Northern Patagonia Load\n",
    "## Organize info\n",
    "### Paul Sandoval Quilodrán \n",
    "#### https://github.com/SQPaul/NPLoad - paul.sandoval97@gmail.com"
   ]
  },
  {
   "cell_type": "markdown",
   "id": "929a35f8-c254-46f7-b9a4-9d3ab2ae101e",
   "metadata": {},
   "source": [
    "### import packages"
   ]
  },
  {
   "cell_type": "code",
   "execution_count": 1,
   "id": "965e0d4e-0157-4c92-ba9b-237e506c8646",
   "metadata": {},
   "outputs": [],
   "source": [
    "import numpy as np\n",
    "import pandas as pd\n",
    "\n",
    "import plotly.express as px\n",
    "import plotly.io as pio\n",
    "pio.renderers.default = 'iframe'\n",
    "\n",
    "import warnings\n",
    "warnings.simplefilter(\"ignore\", category=FutureWarning)"
   ]
  },
  {
   "cell_type": "markdown",
   "id": "0282ffcf-1d7b-4820-bec8-d8d000d8c788",
   "metadata": {
    "tags": []
   },
   "source": [
    "# 1.- Streamflow series (data extracted in situ)\n",
    "## info from Brian"
   ]
  },
  {
   "cell_type": "code",
   "execution_count": 9,
   "id": "4821b717-9683-498e-8e38-6106af7567a6",
   "metadata": {
    "tags": []
   },
   "outputs": [
    {
     "data": {
      "text/html": [
       "<iframe\n",
       "    scrolling=\"no\"\n",
       "    width=\"100%\"\n",
       "    height=\"545px\"\n",
       "    src=\"iframe_figures/figure_9.html\"\n",
       "    frameborder=\"0\"\n",
       "    allowfullscreen\n",
       "></iframe>\n"
      ]
     },
     "metadata": {},
     "output_type": "display_data"
    },
    {
     "data": {
      "text/html": [
       "<iframe\n",
       "    scrolling=\"no\"\n",
       "    width=\"100%\"\n",
       "    height=\"545px\"\n",
       "    src=\"iframe_figures/figure_9.html\"\n",
       "    frameborder=\"0\"\n",
       "    allowfullscreen\n",
       "></iframe>\n"
      ]
     },
     "metadata": {},
     "output_type": "display_data"
    },
    {
     "data": {
      "text/html": [
       "<iframe\n",
       "    scrolling=\"no\"\n",
       "    width=\"100%\"\n",
       "    height=\"545px\"\n",
       "    src=\"iframe_figures/figure_9.html\"\n",
       "    frameborder=\"0\"\n",
       "    allowfullscreen\n",
       "></iframe>\n"
      ]
     },
     "metadata": {},
     "output_type": "display_data"
    },
    {
     "data": {
      "text/html": [
       "<iframe\n",
       "    scrolling=\"no\"\n",
       "    width=\"100%\"\n",
       "    height=\"545px\"\n",
       "    src=\"iframe_figures/figure_9.html\"\n",
       "    frameborder=\"0\"\n",
       "    allowfullscreen\n",
       "></iframe>\n"
      ]
     },
     "metadata": {},
     "output_type": "display_data"
    },
    {
     "data": {
      "text/html": [
       "<iframe\n",
       "    scrolling=\"no\"\n",
       "    width=\"100%\"\n",
       "    height=\"545px\"\n",
       "    src=\"iframe_figures/figure_9.html\"\n",
       "    frameborder=\"0\"\n",
       "    allowfullscreen\n",
       "></iframe>\n"
      ]
     },
     "metadata": {},
     "output_type": "display_data"
    }
   ],
   "source": [
    "#Read sheet_names\n",
    "path = '/media/phi/Hard_disk2/Projects/Pisciculture_vs_Rivers/Entrega/raw_data/FSEQ normas/2. Hidro 2022 FSEQ_EDITED.xlsx'\n",
    "sheet_names = pd.ExcelFile(path).sheet_names\n",
    "sheet_names = sheet_names[0:5]\n",
    "\n",
    "names = [\"Puelo\",\"Yelcho\",\"Palena\",\"Cisnes\",\"Aysen\"]\n",
    "q = []\n",
    "\n",
    "#Iterate in sheets\n",
    "for i in sheet_names: \n",
    "    #Read excel\n",
    "    xlsx = pd.read_excel(path,sheet_name=str(i),index_col=\"date\")\n",
    "    #Delete spaces in dates\n",
    "    xlsx.index = xlsx.index.str.strip()\n",
    "    #Date to correct date format\n",
    "    xlsx.index = pd.to_datetime(xlsx.index,format='%d/%m/%Y %H:%M')\n",
    "    #Calculate daily streamflow\n",
    "    xlsx = xlsx.resample(\"D\").mean()\n",
    "    #Reindex to assure a complete time series \n",
    "    date_range = pd.date_range(start=pd.to_datetime(\"2022-01-01\"),end=pd.to_datetime(\"2022-12-31\"))\n",
    "    xlsx = xlsx.reindex(date_range)\n",
    "    #Append data\n",
    "    q.append(xlsx.iloc[:,1])\n",
    "    \n",
    "    #Plot streamflow ts\n",
    "    fig = px.line(xlsx, x=xlsx.index, y=xlsx.iloc[:,1],title=str(i))\n",
    "    fig.update_layout(xaxis_title=\"\",yaxis_title=\"m3/s\")\n",
    "    fig.show()\n",
    "    \n",
    "#Create final DF     \n",
    "for i in range(len(names)):\n",
    "    if i == 0:\n",
    "        df = pd.DataFrame(q[i],q[i].index)\n",
    "        df.columns = [str(names[i])]\n",
    "    else:\n",
    "        df[str(names[i])] = q[i]\n",
    "\n",
    "df.index.name = \"date\"\n",
    "#df\n",
    "#df.to_csv('/media/phi/Hard_disk2/Projects/Pisciculture_vs_Rivers/Entrega/Timeseries/q.csv')"
   ]
  },
  {
   "cell_type": "markdown",
   "id": "75a9d4ba-0cce-4523-ad2b-68fd73e254a3",
   "metadata": {
    "tags": []
   },
   "source": [
    "# 2.- Quality time series\n",
    "## info from Brian"
   ]
  },
  {
   "cell_type": "code",
   "execution_count": 3,
   "id": "4492378c-22a8-415e-9002-70cdde8bdd31",
   "metadata": {
    "tags": []
   },
   "outputs": [
    {
     "name": "stdout",
     "output_type": "stream",
     "text": [
      "/media/phi/Hard_disk2/Projects/Pisciculture_vs_Rivers/Entrega/Timeseries//Aysen_q-vs-quality.csv\n",
      "/media/phi/Hard_disk2/Projects/Pisciculture_vs_Rivers/Entrega/Timeseries//Cisnes_q-vs-quality.csv\n",
      "/media/phi/Hard_disk2/Projects/Pisciculture_vs_Rivers/Entrega/Timeseries//Palena_q-vs-quality.csv\n",
      "/media/phi/Hard_disk2/Projects/Pisciculture_vs_Rivers/Entrega/Timeseries//Puelo_q-vs-quality.csv\n",
      "/media/phi/Hard_disk2/Projects/Pisciculture_vs_Rivers/Entrega/Timeseries//Yelcho_q-vs-quality.csv\n"
     ]
    }
   ],
   "source": [
    "#Read input data\n",
    "q_path = '/media/phi/Hard_disk2/Projects/Pisciculture_vs_Rivers/Entrega/Timeseries/q.csv'\n",
    "quality_path = '/media/phi/Hard_disk2/Projects/Pisciculture_vs_Rivers/Entrega/raw_data/FSEQ normas/info_brian.xlsx'\n",
    "\n",
    "##quality\n",
    "quality = pd.read_excel(quality_path,sheet_name=\"Calidad\")\n",
    "quality = quality.groupby(['River','Param'])\n",
    "\n",
    "##streamflow\n",
    "q = pd.read_csv(q_path,index_col=\"date\")\n",
    "###groupby function sort the data in alphabetic order, so is necessary sort the q DF\n",
    "q = q.sort_index(axis=1)\n",
    "###create name list\n",
    "names = q.columns.to_list()\n",
    "\n",
    "#From quality DF create parameter and values list\n",
    "##Create empty list\n",
    "param_names = []\n",
    "param_values = []\n",
    "\n",
    "for i in quality:\n",
    "    var_name = str(i[0][0])+\"_\"+str(i[0][1])\n",
    "    param_names.append(var_name)\n",
    "    param_values.append(pd.DataFrame(i[1]))\n",
    "\n",
    "names_all = []\n",
    "dn_all = []\n",
    "don_all = []\n",
    "dop_all = []\n",
    "nh4_all = []\n",
    "nox_all = []\n",
    "pO4_all = []\n",
    "\n",
    "##Adjusment value to create de DFs\n",
    "adj_value = 6\n",
    "\n",
    "#Create a list per parameter\n",
    "for i in range(len(names)):    \n",
    "    #names\n",
    "    names_all.append(names[i])#[:-4])\n",
    "    #dn\n",
    "    dn = pd.DataFrame(param_values[adj_value*i].iloc[:,1])\n",
    "    dn.index = param_values[adj_value*i].iloc[:,0] \n",
    "    dn_all.append(dn)\n",
    "    #don\n",
    "    don = pd.DataFrame(param_values[adj_value*i+1].iloc[:,1])\n",
    "    don.index = param_values[adj_value*i+1].iloc[:,0] \n",
    "    don_all.append(don)\n",
    "    #dop\n",
    "    dop = pd.DataFrame(param_values[adj_value*i+2].iloc[:,1])\n",
    "    dop.index = param_values[adj_value*i+2].iloc[:,0] \n",
    "    dop_all.append(dop)\n",
    "    #nh4\n",
    "    nh4 = pd.DataFrame(param_values[adj_value*i+3].iloc[:,1])\n",
    "    nh4.index = param_values[adj_value*i+3].iloc[:,0] \n",
    "    nh4_all.append(nh4)\n",
    "    #nox\n",
    "    nox = pd.DataFrame(param_values[adj_value*i+4].iloc[:,1])\n",
    "    nox.index = pd.to_datetime(param_values[adj_value*i+4].iloc[:,0]) \n",
    "    nox_all.append(nox)\n",
    "    #p04\n",
    "    pO4 = pd.DataFrame(param_values[adj_value*i+5].iloc[:,1])\n",
    "    pO4.index = pd.to_datetime(param_values[adj_value*i+5].iloc[:,0]) \n",
    "    pO4_all.append(pO4)\n",
    "\n",
    "#Create a list per station\n",
    "df_names = [\"q\",\"DN\",\"DON\",\"DOP\",\"NH4\",\"N0x\",\"P-PO4\"]\n",
    "\n",
    "for i in range(len(names)):\n",
    "    q_act = q.iloc[:,i]\n",
    "    q_act.index = pd.to_datetime(q_act.index)\n",
    "    dn_act = dn_all[i]\n",
    "    dn_act.index = pd.to_datetime(dn_act.index,format='%d/%m/%Y')\n",
    "    don_act = don_all[i]\n",
    "    don_act.index = pd.to_datetime(don_act.index,format='%d/%m/%Y')\n",
    "    dop_act = dop_all[i]\n",
    "    dop_act.index = pd.to_datetime(dop_act.index,format='%d/%m/%Y')\n",
    "    nh4_act = nh4_all[i]\n",
    "    nh4_act.index = pd.to_datetime(nh4_act.index,format='%d/%m/%Y')\n",
    "    nox_act = nox_all[i]\n",
    "    nox_act.index = pd.to_datetime(nox_act.index,format='%d/%m/%Y')\n",
    "    pO4_act = pO4_all[i]\n",
    "    pO4_act.index = pd.to_datetime(pO4_act.index,format='%d/%m/%Y')\n",
    "    df = pd.concat([q_act,dn_act,don_act,dop_act,nh4_act,nox_act,pO4_act],axis=1,join=\"outer\")\n",
    "    df.columns = df_names\n",
    "    df.index.name = \"date\"\n",
    "    csv_name = '/media/phi/Hard_disk2/Projects/Pisciculture_vs_Rivers/Entrega/Timeseries//'+str(q_act.name)+\"_q-vs-quality.csv\"\n",
    "    df.to_csv(csv_name)\n",
    "    print(csv_name)"
   ]
  }
 ],
 "metadata": {
  "kernelspec": {
   "display_name": "Python 3 (ipykernel)",
   "language": "python",
   "name": "python3"
  },
  "language_info": {
   "codemirror_mode": {
    "name": "ipython",
    "version": 3
   },
   "file_extension": ".py",
   "mimetype": "text/x-python",
   "name": "python",
   "nbconvert_exporter": "python",
   "pygments_lexer": "ipython3",
   "version": "3.11.0"
  }
 },
 "nbformat": 4,
 "nbformat_minor": 5
}
